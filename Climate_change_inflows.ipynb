{
  "nbformat": 4,
  "nbformat_minor": 0,
  "metadata": {
    "colab": {
      "name": "Inflows_final.ipynb",
      "provenance": [],
      "collapsed_sections": [],
      "include_colab_link": true
    },
    "kernelspec": {
      "display_name": "Python 3",
      "name": "python3"
    },
    "language_info": {
      "name": "python"
    }
  },
  "cells": [
    {
      "cell_type": "markdown",
      "metadata": {
        "id": "view-in-github",
        "colab_type": "text"
      },
      "source": [
        "<a href=\"https://colab.research.google.com/github/atharvare9/Three_Gorges_Dam/blob/main/Climate_change_inflows.ipynb\" target=\"_parent\"><img src=\"https://colab.research.google.com/assets/colab-badge.svg\" alt=\"Open In Colab\"/></a>"
      ]
    },
    {
      "cell_type": "code",
      "metadata": {
        "colab": {
          "base_uri": "https://localhost:8080/"
        },
        "id": "l70ooY_w6wZn",
        "outputId": "641070eb-69bb-4c7e-942f-580e50cf700e"
      },
      "source": [
        "import numpy as np\n",
        "import matplotlib.pyplot as plt\n",
        "import pandas as pd\n",
        "from google.colab import drive\n",
        "drive.mount('/content/gdrive')\n",
        "import sys \n",
        "sys.path.insert(0, 'MyDrive/Colab Notebooks/Three gorges project')\n",
        "%cd /content/gdrive/MyDrive/Colab Notebooks/Three gorges project\n",
        "%pwd\n",
        "import three_gorges_dam_new_dead as tgd\n"
      ],
      "execution_count": null,
      "outputs": [
        {
          "output_type": "stream",
          "name": "stdout",
          "text": [
            "Drive already mounted at /content/gdrive; to attempt to forcibly remount, call drive.mount(\"/content/gdrive\", force_remount=True).\n",
            "/content/gdrive/MyDrive/Colab Notebooks/Three gorges project\n"
          ]
        }
      ]
    },
    {
      "cell_type": "code",
      "metadata": {
        "id": "pvFaavdmtxs9"
      },
      "source": [
        "def new_flows(data, Q):\n",
        "  Inflow = (pd.DataFrame(data['inflow'])).to_numpy()\n",
        "  Inflow = Inflow[:,0]\n",
        "  SEASONS = ['Winter', 'Spring', 'Summer', 'Autumn']\n",
        "  P = np.array([0.7856, 3.0143, 5.8489, 2.7696])\n",
        "  Q_per = np.divide(Q, P) * 100\n",
        "  I_per = (1.5 * Q_per) - 2.2\n",
        "  I = np.zeros(len(Inflow))\n",
        "  for t in range(len(Inflow)):\n",
        "    if data['month'][t] == 12 or data['month'][t] == 1 or data['month'][t] == 2:\n",
        "      I[t] = Inflow[t] * ( 1 + I_per[0] / 100)\n",
        "    if data['month'][t] == 3 or data['month'][t] == 4 or data['month'][t] == 5:\n",
        "      I[t] = Inflow[t] * ( 1 + I_per[1] / 100)\n",
        "    if data['month'][t] == 6 or data['month'][t] == 7 or data['month'][t] == 8:\n",
        "      I[t] = Inflow[t] * ( 1 + I_per[2] / 100)\n",
        "    if data['month'][t] == 9 or data['month'][t] == 10 or data['month'][t] == 11:\n",
        "      I[t] = Inflow[t] * ( 1 + I_per[3] / 100)\n",
        "  return I\n"
      ],
      "execution_count": null,
      "outputs": []
    },
    {
      "cell_type": "code",
      "metadata": {
        "colab": {
          "base_uri": "https://localhost:8080/",
          "height": 235
        },
        "id": "fCkp9W28K0Bo",
        "outputId": "fa1052c0-63c6-4ac7-de1a-999a3cabe0ef"
      },
      "source": [
        "data = pd.read_csv(\"Version 3 Data.csv\",\n",
        "                   header = None, names = ['date','day','month', 'year', 'inflow'])\n",
        "changes = pd.read_csv('Flowchanges.csv', index_col =0)\n",
        "changes = changes.to_dict(orient = 'index')\n",
        "I = np.zeros((15,3283))\n",
        "storage1 = np.zeros((15,3283))\n",
        "Q1 = np.zeros((15,3283))\n",
        "hydropower = np.zeros((15,3283))\n",
        "up_elev = np.zeros((15,3283))\n",
        "i = 0\n",
        "for key1 in changes.keys():\n",
        "  Q = []\n",
        "  change = changes[key1]\n",
        "  for key2 in change:\n",
        "    Q.append(change[key2])\n",
        "  Q = np.array(Q)\n",
        "  I[i] =new_flows(data, Q) \n",
        "  I[i] = I[i] * (86400 * 10 ** (-9))\n",
        "  storage1[i], Q1[i]= tgd.calc_storage(data, I[i])\n",
        "  hydropower[i], up_elev[i] = tgd.calc_hydro(storage1[i], Q1[i])\n",
        "  hydropower1 = tgd.calc_hydro(storage1[i], Q1[i])\n",
        "  print(max(Q1[i]))\n",
        "  i += 1\n",
        "np.savetxt('Inflow.csv', I, delimiter=\",\")\n",
        "np.savetxt('storage.csv', storage1, delimiter=\",\")\n",
        "np.savetxt('outflow.csv', Q1, delimiter=\",\")\n",
        "np.savetxt('hydropower.csv', hydropower, delimiter=\",\")\n",
        "\n",
        "\n",
        "  \n"
      ],
      "execution_count": 1,
      "outputs": [
        {
          "output_type": "error",
          "ename": "NameError",
          "evalue": "ignored",
          "traceback": [
            "\u001b[0;31m---------------------------------------------------------------------------\u001b[0m",
            "\u001b[0;31mNameError\u001b[0m                                 Traceback (most recent call last)",
            "\u001b[0;32m<ipython-input-1-6b085cdde3f9>\u001b[0m in \u001b[0;36m<module>\u001b[0;34m()\u001b[0m\n\u001b[0;32m----> 1\u001b[0;31m data = pd.read_csv(\"Version 3 Data.csv\",\n\u001b[0m\u001b[1;32m      2\u001b[0m                    header = None, names = ['date','day','month', 'year', 'inflow'])\n\u001b[1;32m      3\u001b[0m \u001b[0mchanges\u001b[0m \u001b[0;34m=\u001b[0m \u001b[0mpd\u001b[0m\u001b[0;34m.\u001b[0m\u001b[0mread_csv\u001b[0m\u001b[0;34m(\u001b[0m\u001b[0;34m'Flowchanges.csv'\u001b[0m\u001b[0;34m,\u001b[0m \u001b[0mindex_col\u001b[0m \u001b[0;34m=\u001b[0m\u001b[0;36m0\u001b[0m\u001b[0;34m)\u001b[0m\u001b[0;34m\u001b[0m\u001b[0;34m\u001b[0m\u001b[0m\n\u001b[1;32m      4\u001b[0m \u001b[0mchanges\u001b[0m \u001b[0;34m=\u001b[0m \u001b[0mchanges\u001b[0m\u001b[0;34m.\u001b[0m\u001b[0mto_dict\u001b[0m\u001b[0;34m(\u001b[0m\u001b[0morient\u001b[0m \u001b[0;34m=\u001b[0m \u001b[0;34m'index'\u001b[0m\u001b[0;34m)\u001b[0m\u001b[0;34m\u001b[0m\u001b[0;34m\u001b[0m\u001b[0m\n\u001b[1;32m      5\u001b[0m \u001b[0mI\u001b[0m \u001b[0;34m=\u001b[0m \u001b[0mnp\u001b[0m\u001b[0;34m.\u001b[0m\u001b[0mzeros\u001b[0m\u001b[0;34m(\u001b[0m\u001b[0;34m(\u001b[0m\u001b[0;36m15\u001b[0m\u001b[0;34m,\u001b[0m\u001b[0;36m3283\u001b[0m\u001b[0;34m)\u001b[0m\u001b[0;34m)\u001b[0m\u001b[0;34m\u001b[0m\u001b[0;34m\u001b[0m\u001b[0m\n",
            "\u001b[0;31mNameError\u001b[0m: name 'pd' is not defined"
          ]
        }
      ]
    },
    {
      "cell_type": "code",
      "metadata": {
        "id": "UXM-EMA4EYDb"
      },
      "source": [
        ""
      ],
      "execution_count": null,
      "outputs": []
    }
  ]
}