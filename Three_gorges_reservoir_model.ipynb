{
  "nbformat": 4,
  "nbformat_minor": 5,
  "metadata": {
    "kernelspec": {
      "display_name": "Python 3",
      "language": "python",
      "name": "python3"
    },
    "language_info": {
      "codemirror_mode": {
        "name": "ipython",
        "version": 3
      },
      "file_extension": ".py",
      "mimetype": "text/x-python",
      "name": "python",
      "nbconvert_exporter": "python",
      "pygments_lexer": "ipython3",
      "version": "3.8.8"
    },
    "colab": {
      "name": "Three gorges dam final.ipynb",
      "provenance": [],
      "collapsed_sections": [],
      "include_colab_link": true
    }
  },
  "cells": [
    {
      "cell_type": "markdown",
      "metadata": {
        "id": "view-in-github",
        "colab_type": "text"
      },
      "source": [
        "<a href=\"https://colab.research.google.com/github/atharvare9/Three_Gorges_Dam/blob/main/Three_gorges_reservoir_model.ipynb\" target=\"_parent\"><img src=\"https://colab.research.google.com/assets/colab-badge.svg\" alt=\"Open In Colab\"/></a>"
      ]
    },
    {
      "cell_type": "code",
      "metadata": {
        "id": "fd31ce8a",
        "colab": {
          "base_uri": "https://localhost:8080/"
        },
        "outputId": "3872fd8a-0861-4174-c710-d302a22f8784"
      },
      "source": [
        "import numpy as np\n",
        "import matplotlib.pyplot as plt\n",
        "import pandas as pd\n",
        "from google.colab import drive \n",
        "drive.mount('/content/gdrive/')"
      ],
      "id": "fd31ce8a",
      "execution_count": null,
      "outputs": [
        {
          "output_type": "stream",
          "name": "stdout",
          "text": [
            "Drive already mounted at /content/gdrive/; to attempt to forcibly remount, call drive.mount(\"/content/gdrive/\", force_remount=True).\n"
          ]
        }
      ]
    },
    {
      "cell_type": "code",
      "metadata": {
        "id": "4429a772"
      },
      "source": [
        "def june10_sept10(I, S):\n",
        "    S_limit = storage['S145']\n",
        "    if I + S > S_limit:\n",
        "        Q = min(35000 * s_to_d, S + I - S_limit)\n",
        "        Q = max(Q, 8000 * s_to_d)\n",
        "    else:\n",
        "        if I > 10000 * s_to_d:\n",
        "            Q = min(35000 * s_to_d, I)\n",
        "        else:\n",
        "            Q = 8000 * s_to_d\n",
        "    S1 = I + S - Q\n",
        "    if S1 > storage['S175']:\n",
        "      Q =max(35000 * s_to_d, S + I - storage['S175'])\n",
        "    if S1 < 17:\n",
        "      Q = max(I + S - 17, 0)\n",
        "    return Q\n",
        "# not completed"
      ],
      "id": "4429a772",
      "execution_count": null,
      "outputs": []
    },
    {
      "cell_type": "code",
      "metadata": {
        "id": "81a8fdc8"
      },
      "source": [
        "def sept11_sept31(I, S, day):\n",
        "    S_limit = S + (storage['S162'] - S) / (22 - day)\n",
        "    if I + S > S_limit:\n",
        "        Q = min(35000 * s_to_d, S + I - S_limit)\n",
        "        Q = max(Q, 8000 * s_to_d) \n",
        "    else:\n",
        "        if I > 10000 * s_to_d:\n",
        "            Q = min(35000 * s_to_d, I)\n",
        "        else:\n",
        "            Q = 8000 * s_to_d\n",
        "    S1 = I + S - Q\n",
        "    if S1 > storage['S175']:\n",
        "      Q =max(35000 * s_to_d, S + I - storage['S175'])\n",
        "    if S1 < 17:\n",
        "      Q = max(I + S - 17, 0)\n",
        "    return Q"
      ],
      "id": "81a8fdc8",
      "execution_count": null,
      "outputs": []
    },
    {
      "cell_type": "code",
      "metadata": {
        "id": "2e61f1a8"
      },
      "source": [
        "def oct1_oct31(I, S, day):\n",
        "    S_limit = S + (storage['S175'] - S) / (32 - day)\n",
        "    if I + S > S_limit:\n",
        "        Q = min(35000 * s_to_d, S + I - S_limit)\n",
        "        Q = max(Q, 8000 * s_to_d)\n",
        "    else:\n",
        "        if I > 8000 * s_to_d:\n",
        "            Q = min(35000 * s_to_d, I)\n",
        "        else:\n",
        "            Q = 8000 * s_to_d\n",
        "    S1 = I + S - Q\n",
        "    if S1 > storage['S175']:\n",
        "      Q =max(35000 * s_to_d, S + I - storage['S175'])\n",
        "    if S1 < 17:\n",
        "      Q = max(I + S - 17, 0)\n",
        "    return Q"
      ],
      "id": "2e61f1a8",
      "execution_count": null,
      "outputs": []
    },
    {
      "cell_type": "code",
      "metadata": {
        "id": "2e3121bd"
      },
      "source": [
        "def nov1_dec31(I, S):\n",
        "    S_limit = storage['S175']\n",
        "    Q = max(5300 * s_to_d, I + S - S_limit)\n",
        "    S1 = I + S - Q\n",
        "    if S1 > storage['S175']:\n",
        "      Q =max(35000 * s_to_d, S + I - storage['S175'])\n",
        "    if S1 < 17:\n",
        "      Q = max(I + S - 17, 0)\n",
        "    return Q"
      ],
      "id": "2e3121bd",
      "execution_count": null,
      "outputs": []
    },
    {
      "cell_type": "code",
      "metadata": {
        "id": "a2fa409e"
      },
      "source": [
        "def jan1_april31(I, S, day):\n",
        "    S_limit = S - (S - storage['S155']) / (121 - day)\n",
        "    Q = min(35000 * s_to_d, S + I - S_limit)\n",
        "    Q = max(6000 * s_to_d, Q)\n",
        "    S1 = I + S - Q\n",
        "    if S1 > storage['S175']:\n",
        "      Q =max(35000 * s_to_d, S + I - storage['S175'])\n",
        "    if S1 < 17:\n",
        "      Q = max(I + S - 17, 0)\n",
        "    return Q"
      ],
      "id": "a2fa409e",
      "execution_count": null,
      "outputs": []
    },
    {
      "cell_type": "code",
      "metadata": {
        "id": "4e4d5b61"
      },
      "source": [
        "def may1_may25(I, S, day):\n",
        "    if S > storage['S155']:\n",
        "        S_limit = S - (S - storage['S155']) / (26 - day)\n",
        "        Q = min(35000 * s_to_d, S + I - S_limit)\n",
        "        Q = max(Q, 6000 * s_to_d)\n",
        "    else:\n",
        "        S_limit = storage['S155']\n",
        "        Q = min(35000 * s_to_d, S + I - S_limit)\n",
        "        Q = max(6000 * s_to_d, Q)\n",
        "    S1 = I + S - Q\n",
        "    if S1 > storage['S175']:\n",
        "      Q =max(35000 * s_to_d, S + I - storage['S175'])\n",
        "      if S1 < 17:\n",
        "        Q = max(I + S - 17, 0)\n",
        "    return Q"
      ],
      "id": "4e4d5b61",
      "execution_count": null,
      "outputs": []
    },
    {
      "cell_type": "code",
      "metadata": {
        "id": "70a05a40"
      },
      "source": [
        "def may26_june10(I, S, day):\n",
        "    S_limit = S - (S - storage['S145']) / (17 - day)\n",
        "    Q = min(35000 * s_to_d, S + I - S_limit)\n",
        "    Q = max(6000 * s_to_d, Q)\n",
        "    S1 = I + S - Q\n",
        "    if S1 > storage['S175']:\n",
        "      Q =max(35000 * s_to_d, S + I - storage['S175'])\n",
        "    if S1 < 17:\n",
        "      Q = max(I + S - 17, 0)\n",
        "    return Q"
      ],
      "id": "70a05a40",
      "execution_count": null,
      "outputs": []
    },
    {
      "cell_type": "code",
      "metadata": {
        "id": "b7742885"
      },
      "source": [
        "def storage_to_elev(S):\n",
        "    A = 96692.07\n",
        "    B = 2310\n",
        "    return ((-A*B + (A**2 * B**2 + 12 * B * S * 10**9 )**0.5)/ (6*B))"
      ],
      "id": "b7742885",
      "execution_count": null,
      "outputs": []
    },
    {
      "cell_type": "code",
      "metadata": {
        "id": "493c7522"
      },
      "source": [
        "def calc_hydro(S, Q):\n",
        "    up_elev = storage_to_elev(S)\n",
        "    down_elev = 62\n",
        "    H = up_elev - down_elev\n",
        "    E = 0.92\n",
        "    power = E * 9810 * Q * H  / 86400\n",
        "    for t in range(len(power)):\n",
        "      if power[t] > 22.5:\n",
        "        power[t] = 22.5\n",
        "    return power, up_elev"
      ],
      "id": "493c7522",
      "execution_count": null,
      "outputs": []
    },
    {
      "cell_type": "code",
      "metadata": {
        "id": "e5b94db3"
      },
      "source": [
        "def calc_storage(data, Inflow): \n",
        "    S1 = np.zeros(len(Inflow))\n",
        "    Q1 = np.zeros(len(Inflow))\n",
        "    S1[0] = 39.3\n",
        "    Q1[0] = Inflow[0]\n",
        "    for t in range(len(Inflow) - 1):\n",
        "        S1[t + 1] = S1[t] + Inflow[t] - Q1[t]\n",
        "        if ((data['month'].iloc[t] == 6 and data['day'].iloc[t] >10) or (data['month'].iloc[t] == 7)\n",
        "            or (data['month'].iloc[t] == 8) or (data['month'].iloc[t] == 9 and data['day'].iloc[t] <=10)):\n",
        "            Q1[t + 1] = june10_sept10(Inflow[t + 1], S1[t + 1])\n",
        "\n",
        "        elif (data['month'].iloc[t] == 9 and (data['day'].iloc[t] >10 and data['day'].iloc[t] <= 31)):\n",
        "            if data['month'].iloc[t] == 9:\n",
        "                day = data['day'].iloc[t] - 10\n",
        "            if data['month'].iloc[t] == 10:\n",
        "                day = 21 + data['day'].iloc[t]\n",
        "            Q1[t + 1] = sept11_sept31(Inflow[t + 1], S1[t + 1], day)\n",
        "\n",
        "        elif data['month'][t] == 10:\n",
        "            day = data['day'].iloc[t]\n",
        "            Q1[t + 1] = oct1_oct31(Inflow[t + 1], S1[t + 1], day)\n",
        "\n",
        "        elif data['month'].iloc[t] == 11 or data['month'].iloc[t] == 12:\n",
        "            Q1[t + 1] = nov1_dec31(Inflow[t + 1], S1[t + 1])\n",
        "\n",
        "        elif (data['month'].iloc[t] == 1 or data['month'].iloc[t] == 2 or data['month'].iloc[t] == 3 or \n",
        "            data['month'].iloc[t] == 4):\n",
        "            if data['month'][t] == 1:\n",
        "                day = data['day'].iloc[t]\n",
        "            elif data['month'][t] == 2:\n",
        "                day = 31 + data['day'].iloc[t]\n",
        "            elif data['month'][t] == 3:\n",
        "                day = 31 + 28 + data['day'].iloc[t]\n",
        "            else:\n",
        "                day = 31 + 28 + 31 + data['day'].iloc[t]\n",
        "            Q1[t + 1] = jan1_april31(Inflow[t + 1], S1[t + 1], day)\n",
        "\n",
        "        elif data['month'].iloc[t] == 5 and data['day'][t] <= 25:\n",
        "            day = data['day'].iloc[t]\n",
        "            Q1[t + 1] = may1_may25(Inflow[t + 1], S1[t + 1], day)\n",
        "\n",
        "        else:\n",
        "            if data['month'].iloc[t] == 5:\n",
        "                day = data['day'].iloc[t] - 25\n",
        "            else:\n",
        "                day = data['day'].iloc[t] + 6\n",
        "            Q1[t + 1] = may26_june10(Inflow[t + 1], S1[t + 1], day)\n",
        "    return S1, Q1\n"
      ],
      "id": "e5b94db3",
      "execution_count": null,
      "outputs": []
    },
    {
      "cell_type": "code",
      "metadata": {
        "id": "cf258f80"
      },
      "source": [
        "\n",
        "data = pd.read_csv(\"gdrive/My Drive/Colab Notebooks/Three gorges project/Version 3 Data.csv\",header = None, names = ['date','day','month', 'year', 'inflow'])\n",
        "s_to_d = 86400 * 10 **(-9) \n",
        "storage = {'S145': 32.53, 'S162': 36.37, 'S175': 39.3, 'S155': 34.79 , 'S181': 40.65 }\n",
        "df = pd.DataFrame(data['inflow'])\n",
        "Inflow = df.to_numpy()\n",
        "Inflow = Inflow[:,0]\n",
        "Inflow = Inflow * 86400 * 10**(-9)\n",
        "S, outflow = calc_storage(data, Inflow)\n",
        "plt.figure(figsize = (20, 10))\n",
        "plt.plot(Inflow, linewidth = 0.5, label = 'Inflow')\n",
        "plt.plot(S, linewidth = 0.5, label = 'Storage')\n",
        "plt.plot(outflow, linewidth = 0.5, label = 'Outflow')\n",
        "np.savetxt('gdrive/My Drive/Colab Notebooks/Three gorges project/basenew.csv', outflow, delimiter = ',')\n",
        "np.savetxt('gdrive/My Drive/Colab Notebooks/Three gorges project/initial_storagenew.csv', S, delimiter = ',')\n",
        "plt.legend()\n",
        "plt.savefig('trial1curve.png', dpi = 300)\n",
        "plt.show()\n",
        "hydropower, upelev = calc_hydro(S, outflow)\n",
        "np.savetxt('gdrive/My Drive/Colab Notebooks/Three gorges project/hydro_initialnew.csv', hydropower, delimiter = ',')\n",
        "np.savetxt('gdrive/My Drive/Colab Notebooks/Three gorges project/upelevnew.csv', upelev, delimiter = ',')\n",
        "\n"
      ],
      "id": "cf258f80",
      "execution_count": null,
      "outputs": []
    },
    {
      "cell_type": "code",
      "metadata": {
        "id": "ca0cbee4"
      },
      "source": [
        ""
      ],
      "id": "ca0cbee4",
      "execution_count": null,
      "outputs": []
    },
    {
      "cell_type": "code",
      "metadata": {
        "id": "ea7a7b21"
      },
      "source": [
        ""
      ],
      "id": "ea7a7b21",
      "execution_count": null,
      "outputs": []
    },
    {
      "cell_type": "code",
      "metadata": {
        "id": "63c96a1d"
      },
      "source": [
        ""
      ],
      "id": "63c96a1d",
      "execution_count": null,
      "outputs": []
    },
    {
      "cell_type": "code",
      "metadata": {
        "id": "850b1f1e"
      },
      "source": [
        ""
      ],
      "id": "850b1f1e",
      "execution_count": null,
      "outputs": []
    }
  ]
}